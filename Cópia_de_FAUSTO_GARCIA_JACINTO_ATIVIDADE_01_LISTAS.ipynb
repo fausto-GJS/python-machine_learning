{
  "nbformat": 4,
  "nbformat_minor": 0,
  "metadata": {
    "colab": {
      "name": "Cópia de FAUSTO GARCIA JACINTO - ATIVIDADE_01_LISTAS.ipynb",
      "provenance": [],
      "collapsed_sections": [],
      "include_colab_link": true
    },
    "kernelspec": {
      "name": "python3",
      "display_name": "Python 3"
    },
    "language_info": {
      "name": "python"
    }
  },
  "cells": [
    {
      "cell_type": "markdown",
      "metadata": {
        "id": "view-in-github",
        "colab_type": "text"
      },
      "source": [
        "<a href=\"https://colab.research.google.com/github/fausto-GJS/python-machine_learning/blob/main/C%C3%B3pia_de_FAUSTO_GARCIA_JACINTO_ATIVIDADE_01_LISTAS.ipynb\" target=\"_parent\"><img src=\"https://colab.research.google.com/assets/colab-badge.svg\" alt=\"Open In Colab\"/></a>"
      ]
    },
    {
      "cell_type": "markdown",
      "source": [
        "# Lista de Exercícios\n",
        "## Valor: _100 pontos_ pela entrega\n",
        "\n",
        "### Orientações\n",
        "*  Devem ser utilizados todos os recursos aprendidos até o momento, como:\n",
        "  *  Declaração de variáveis\n",
        "  *  Operadores (aritméticos, lógicos, relacionais etc.)\n",
        "  *  Desvios condicionais (simples ou aninhados)\n",
        "  *  Estruturas de repetição ``for`` e ``while``\n",
        "  *  Listas ``list`` e seus componentes (métodos)\n",
        "* A interpretação dos enunciados faz parte da resolução dos problemas.\n",
        "* As resoluções devem permitir que novos dados sejam computados __sem a necessidade de alteração nos algoritmos__.\n",
        "___"
      ],
      "metadata": {
        "id": "D1BB270jgIwZ"
      }
    },
    {
      "cell_type": "markdown",
      "source": [
        "### 1. Faça um Programa que leia 20 números inteiros e armazene-os em uma lista. Armazene os números pares na lista PAR e os números IMPARES na lista ímpar. Imprima as três listas."
      ],
      "metadata": {
        "id": "Tzq-TeXRgNj8"
      }
    },
    {
      "cell_type": "code",
      "source": [
        "# Resolução\n",
        "lista = [] \n",
        "par=[]\n",
        "impar=[]\n",
        "\n",
        "for i in range(21):   \n",
        "  lista.append(i) \n",
        "  if(lista[i]%2):\n",
        "   impar.append(i)\n",
        "  else:\n",
        "    par.append(i)\n",
        "       \n",
        "print(\"lista: \",lista) \n",
        "print(\"par: \",par) \n",
        "print(\"impar: \",impar)"
      ],
      "metadata": {
        "id": "zNIayHZAgeCq",
        "colab": {
          "base_uri": "https://localhost:8080/"
        },
        "outputId": "2da478a9-d318-41a1-d43f-9437a82b85a7"
      },
      "execution_count": 9,
      "outputs": [
        {
          "output_type": "stream",
          "name": "stdout",
          "text": [
            "lista:  [0, 1, 2, 3, 4, 5, 6, 7, 8, 9, 10, 11, 12, 13, 14, 15, 16, 17, 18, 19, 20]\n",
            "par:  [0, 2, 4, 6, 8, 10, 12, 14, 16, 18, 20]\n",
            "impar:  [1, 3, 5, 7, 9, 11, 13, 15, 17, 19]\n"
          ]
        }
      ]
    },
    {
      "cell_type": "markdown",
      "source": [
        "### 2. Faça um programa que receba a temperatura média de cada mês do ano e armazene-as em uma lista. Após isto, calcule a média anual das temperaturas e mostre todas as temperaturas acima da média anual, e em que mês elas ocorreram (mostrar o mês por extenso: 1 – Janeiro, 2 – Fevereiro, . . . )."
      ],
      "metadata": {
        "id": "H3hzFjXbgNvD"
      }
    },
    {
      "cell_type": "code",
      "source": [
        "# Resolução"
      ],
      "metadata": {
        "id": "QYPa5mbdgqjB"
      },
      "execution_count": null,
      "outputs": []
    },
    {
      "cell_type": "markdown",
      "source": [
        "### 3. Faça um programa que leia um número indeterminado de valores, correspondentes a notas, encerrando a entrada de dados quando for informado um valor igual a -1 (que não deve ser armazenado). Após esta entrada de dados, faça:\n",
        "\n",
        "*  Mostre a quantidade de valores que foram lidos;\n",
        "*  Exiba todos os valores na ordem em que foram informados, um ao lado do outro;\n",
        "*  Exiba todos os valores na ordem inversa à que foram informados, um abaixo do outro;\n",
        "*  Calcule e mostre a soma dos valores;\n",
        "*  Calcule e mostre a média dos valores;\n",
        "*  Calcule e mostre a quantidade de valores acima da média calculada;\n",
        "*  Calcule e mostre a quantidade de valores abaixo de sete;\n",
        "*  Encerre o programa com uma mensagem;"
      ],
      "metadata": {
        "id": "UJ37_YZ9gNy7"
      }
    },
    {
      "cell_type": "code",
      "source": [
        "# Resolução"
      ],
      "metadata": {
        "id": "RA4UjYJvhFOd"
      },
      "execution_count": null,
      "outputs": []
    },
    {
      "cell_type": "markdown",
      "source": [
        "### 4. Uma empresa paga seus vendedores com base em comissões. O vendedor recebe R\\$ 200 por semana mais 9 por cento de suas vendas brutas daquela semana. Por exemplo, um vendedor que teve vendas brutas de R\\$ 3000 em uma semana recebe R\\$ 200 mais 9 por cento de R\\$ 3000, ou seja, um total de R\\$ 470. Escreva um programa (usando listaa) que determine quantos vendedores receberam salários nos seguintes intervalos de valores:\n",
        "*  R\\$ 200 - R\\$ 299\n",
        "*  R\\$ 300 - R\\$ 399\n",
        "*  R\\$ 400 - R\\$ 499\n",
        "*  R\\$ 500 - R\\$ 599\n",
        "*  R\\$ 600 - R\\$ 699\n",
        "*  R\\$ 700 - R\\$ 799\n",
        "*  R\\$ 800 - R\\$ 899\n",
        "*  R\\$ 900 - R\\$ 999\n",
        "*  R\\$ 1000 em diante\n",
        "\n",
        "__Desafio__: Crie uma fórmula para chegar na posição da lista a partir do salário, sem fazer vários ``ifs`` aninhados."
      ],
      "metadata": {
        "id": "QtKUr18dgN2j"
      }
    },
    {
      "cell_type": "code",
      "source": [
        "# Resolução"
      ],
      "metadata": {
        "id": "kRjkH3JziIo0"
      },
      "execution_count": null,
      "outputs": []
    },
    {
      "cell_type": "markdown",
      "source": [
        "### 5. Foram anotadas as idades e alturas de 30 alunos. Faça um Programa que determine quantos alunos com mais de 13 anos possuem altura inferior à média de altura desses alunos."
      ],
      "metadata": {
        "id": "h4OfY_r7gN6r"
      }
    },
    {
      "cell_type": "code",
      "source": [
        "# Resolução\n",
        "idade=[]\n",
        "altura=[]\n",
        "\n",
        "for i in range(2):\n",
        "  idade.append(int(input(\"digite a idade: \")))\n",
        "  altura.append(float(input(\"digite a altura: \")))\n",
        "\n",
        "for j in range(2):\n",
        "  if(idade[j]>=13):\n",
        "    print(\"idade: \",idade[j],\" altura: \",altura[j])\n"
      ],
      "metadata": {
        "id": "GlZ65DanidsW",
        "colab": {
          "base_uri": "https://localhost:8080/"
        },
        "outputId": "f0dd830c-e798-4d7e-d776-a34ddc189bcf"
      },
      "execution_count": 7,
      "outputs": [
        {
          "output_type": "stream",
          "name": "stdout",
          "text": [
            "digite a idade: 25\n",
            "digite a altura: 1.80\n",
            "digite a idade: 60\n",
            "digite a altura: 1.50\n",
            "idade:  25  altura:  1.8\n",
            "idade:  60  altura:  1.5\n"
          ]
        }
      ]
    },
    {
      "cell_type": "markdown",
      "source": [
        "### 6. Faça um Programa que leia uma lista A com 10 números inteiros, calcule e mostre a soma dos quadrados dos elementos contidos na lista."
      ],
      "metadata": {
        "id": "tWT-PerPgN-T"
      }
    },
    {
      "cell_type": "code",
      "source": [
        "# Resolução\n",
        "lista=[]\n",
        "i=0\n",
        "for i in range(10):\n",
        "  lista.append(int(input(\"digite um numero: \")))\n",
        "soma = sum(lista)\n",
        "print(\"a soma da lista é: %d \" % soma)"
      ],
      "metadata": {
        "id": "uRaATNpxikmh",
        "colab": {
          "base_uri": "https://localhost:8080/"
        },
        "outputId": "31566399-fac7-4d24-f7a0-ed474d6946aa"
      },
      "execution_count": 8,
      "outputs": [
        {
          "output_type": "stream",
          "name": "stdout",
          "text": [
            "digite um numero: 5\n",
            "digite um numero: 5\n",
            "digite um numero: 5\n",
            "digite um numero: 5\n",
            "digite um numero: 5\n",
            "digite um numero: 5\n",
            "digite um numero: 5\n",
            "digite um numero: 5\n",
            "digite um numero: 5\n",
            "digite um numero: 5\n",
            "a soma da lista é: 50 \n"
          ]
        }
      ]
    },
    {
      "cell_type": "markdown",
      "source": [
        "### 7. Faça um Programa que leia uma lista de 10 caracteres, e diga quantas consoantes foram lidas. Imprima as consoantes."
      ],
      "metadata": {
        "id": "MWxzq8OigOCb"
      }
    },
    {
      "cell_type": "code",
      "source": [
        "# Resolução"
      ],
      "metadata": {
        "id": "MHy8mMBwixKO"
      },
      "execution_count": null,
      "outputs": []
    },
    {
      "cell_type": "markdown",
      "source": [
        "### 8. Em uma competição de salto em distância cada atleta tem direito a cinco saltos. O resultado do atleta será determinado pela média dos cinco valores restantes. Você deve fazer um programa que receba o nome e as cinco distâncias alcançadas pelo atleta em seus saltos e depois informe o nome, os saltos e a média dos saltos. O programa deve ser encerrado quando não for informado o nome do atleta. A saída do programa deve ser conforme o exemplo abaixo:\n",
        "\n",
        "```\n",
        "Atleta: João do Pulo\n",
        " \n",
        "Primeiro Salto: 6.5 m\n",
        "Segundo Salto: 6.1 m\n",
        "Terceiro Salto: 6.2 m\n",
        "Quarto Salto: 5.4 m\n",
        "Quinto Salto: 5.3 m\n",
        "\n",
        "Resultado final:\n",
        "Atleta: João do Pulo\n",
        "Saltos: 6.5 - 6.1 - 6.2 - 5.4 - 5.3\n",
        "Média dos saltos: 5.9 m\n",
        "```"
      ],
      "metadata": {
        "id": "JVgvAZ5KgOGD"
      }
    },
    {
      "cell_type": "code",
      "source": [
        "# Resolução"
      ],
      "metadata": {
        "id": "uzVoTlTpjCt_"
      },
      "execution_count": null,
      "outputs": []
    },
    {
      "cell_type": "markdown",
      "source": [
        "### 9. Uma grande emissora de televisão quer fazer uma enquete entre os seus telespectadores para saber qual o melhor jogador após cada jogo. Para isto, faz-se necessário o desenvolvimento de um programa, que será utilizado pelas telefonistas, para a computação dos votos. Sua equipe foi contratada para desenvolver este programa.\n",
        "Para computar cada voto, a telefonista digitará um número, entre 1 e 23, correspondente ao número da camisa do jogador. Um número de jogador igual zero, indica que a votação foi encerrada. Se um número inválido for digitado, o programa deve ignorá-lo, mostrando uma breve mensagem de aviso, e voltando a pedir outro número. Após o final da votação, o programa deverá exibir:\n",
        "\n",
        "*  O total de votos computados;\n",
        "*  Os números e respectivos votos de todos os jogadores que receberam votos;\n",
        "*  O percentual de votos de cada um destes jogadores;\n",
        "*  O número do jogador escolhido como o melhor jogador da partida, juntamente com o número de votos e o percentual de votos dados a ele.\n",
        "\n",
        "A saída deverá ser algo semelhante ao exemplo abaixo:\n",
        "\n",
        "```\n",
        "Enquete: Quem foi o melhor jogador?\n",
        "\n",
        "Número do jogador (0=fim): 9\n",
        "Número do jogador (0=fim): 10\n",
        "Número do jogador (0=fim): 9\n",
        "Número do jogador (0=fim): 10\n",
        "Número do jogador (0=fim): 11\n",
        "Número do jogador (0=fim): 10\n",
        "Número do jogador (0=fim): 50\n",
        "Informe um valor entre 1 e 23 ou 0 para sair!\n",
        "Número do jogador (0=fim): 9\n",
        "Número do jogador (0=fim): 9\n",
        "Número do jogador (0=fim): 0\n",
        "\n",
        "Resultado da votação:\n",
        "\n",
        "Foram computados 8 votos.\n",
        "\n",
        "Jogador Votos           %\n",
        "9               4               50,0%\n",
        "10              3               37,5%\n",
        "11              1               12,5%\n",
        "O melhor jogador foi o número 9, com 4 votos, correspondendo a 50% do total de votos.\n",
        "```"
      ],
      "metadata": {
        "id": "XJlSTNIQgOJc"
      }
    },
    {
      "cell_type": "code",
      "source": [
        "# Resolução"
      ],
      "metadata": {
        "id": "jO5zbW2Hj4Y4"
      },
      "execution_count": null,
      "outputs": []
    },
    {
      "cell_type": "markdown",
      "source": [
        "### 10. Faça um Programa que peça as quatro notas de 10 alunos, calcule e armazene em uma lista a média de cada aluno, imprima o número de alunos com média maior ou igual a 7.0."
      ],
      "metadata": {
        "id": "_ftkrZPHgONL"
      }
    },
    {
      "cell_type": "code",
      "source": [
        "# Resolução"
      ],
      "metadata": {
        "id": "CvmyUl1PkLLw"
      },
      "execution_count": null,
      "outputs": []
    }
  ]
}