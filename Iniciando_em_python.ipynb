{
  "nbformat": 4,
  "nbformat_minor": 0,
  "metadata": {
    "colab": {
      "name": "Iniciando em python.ipynb",
      "provenance": [],
      "collapsed_sections": [],
      "authorship_tag": "ABX9TyPg5siLcKIK55LXEHu4mOZY",
      "include_colab_link": true
    },
    "kernelspec": {
      "name": "python3",
      "display_name": "Python 3"
    },
    "language_info": {
      "name": "python"
    }
  },
  "cells": [
    {
      "cell_type": "markdown",
      "metadata": {
        "id": "view-in-github",
        "colab_type": "text"
      },
      "source": [
        "<a href=\"https://colab.research.google.com/github/fausto-GJS/python-machine_learning/blob/main/Iniciando_em_python.ipynb\" target=\"_parent\"><img src=\"https://colab.research.google.com/assets/colab-badge.svg\" alt=\"Open In Colab\"/></a>"
      ]
    },
    {
      "cell_type": "code",
      "execution_count": null,
      "metadata": {
        "id": "rg21K0NBmnPn"
      },
      "outputs": [],
      "source": [
        ""
      ]
    },
    {
      "cell_type": "markdown",
      "source": [
        "# Escrevendo Hello world\n"
      ],
      "metadata": {
        "id": "X537Wm0qnwig"
      }
    },
    {
      "cell_type": "code",
      "source": [
        "print(\"Hello world\")\n",
        "print(2+3)\n",
        "idade = 33\n",
        "nome = \"fausto\"\n",
        "altura = 1.73\n",
        "lista_fruta =[\"maça\",\"banana\",\"morango\"]\n",
        "print(idade)\n",
        "print(nome)\n",
        "print(altura)\n",
        "print(lista_fruta)\n",
        "\n",
        "#verificar tipo\n",
        "type(idade)\n",
        "type(nome)\n",
        "type(altura)\n",
        "type(lista_fruta)\n",
        "\n",
        "\n"
      ],
      "metadata": {
        "colab": {
          "base_uri": "https://localhost:8080/"
        },
        "id": "3YxZgTbPn5ab",
        "outputId": "3cb572c2-fa29-41ff-ab83-c377b6658dbc"
      },
      "execution_count": null,
      "outputs": [
        {
          "output_type": "stream",
          "name": "stdout",
          "text": [
            "Hello world\n",
            "5\n",
            "33\n",
            "fausto\n",
            "1.73\n",
            "['maça', 'banana', 'morango']\n",
            "20.0\n",
            "20.0\n"
          ]
        }
      ]
    },
    {
      "cell_type": "code",
      "source": [
        "#converter\n",
        "idade_1 = \"10\"\n",
        "idade_2 = \"30\"\n",
        "print ((int(idade_1)+int(idade_2))/2)\n",
        "print ((float(idade_1)+float(idade_2))/2)"
      ],
      "metadata": {
        "colab": {
          "base_uri": "https://localhost:8080/"
        },
        "id": "HF8hYqFowWvY",
        "outputId": "e49e3bd3-dc5a-4934-ca16-ee7d04258638"
      },
      "execution_count": null,
      "outputs": [
        {
          "output_type": "stream",
          "name": "stdout",
          "text": [
            "20.0\n",
            "20.0\n"
          ]
        }
      ]
    },
    {
      "cell_type": "code",
      "source": [
        "#controle de fluxo \n",
        "#if teste expression:\n",
        "# statement(s)\n",
        "idade_permitida = 21\n",
        "if idade_permitida >21:\n",
        "  print(\"Entrada Permitida\")\n",
        "elif idade_permitida ==21:\n",
        "  print(\"Pode entrar\")\n",
        "else:\n",
        "  print(\"Entrada não permitida\")  "
      ],
      "metadata": {
        "colab": {
          "base_uri": "https://localhost:8080/"
        },
        "id": "9flaQuGiwc24",
        "outputId": "51accfbe-c898-448c-a4dd-6d66a268ad5a"
      },
      "execution_count": null,
      "outputs": [
        {
          "output_type": "stream",
          "name": "stdout",
          "text": [
            "Pode entrar\n"
          ]
        }
      ]
    },
    {
      "cell_type": "code",
      "source": [
        "#loop\n",
        "i=0\n",
        "while i <10:\n",
        "  i+=1\n",
        "  if i==5: #pular o 5\n",
        "    continue\n",
        "  print(i)\n",
        "  "
      ],
      "metadata": {
        "colab": {
          "base_uri": "https://localhost:8080/"
        },
        "id": "3EmPIWKFxVoP",
        "outputId": "f6dc1876-1e99-4488-eb69-e056d65d7d74"
      },
      "execution_count": null,
      "outputs": [
        {
          "output_type": "stream",
          "name": "stdout",
          "text": [
            "1\n",
            "2\n",
            "3\n",
            "4\n",
            "6\n",
            "7\n",
            "8\n",
            "9\n",
            "10\n"
          ]
        }
      ]
    },
    {
      "cell_type": "code",
      "source": [
        "!pip download pandas #instalando biblioteca pandas"
      ],
      "metadata": {
        "colab": {
          "base_uri": "https://localhost:8080/"
        },
        "id": "J0RBw0nX7RH1",
        "outputId": "fb9c534f-4aa3-47d8-ff12-b2b37060ea5d"
      },
      "execution_count": 4,
      "outputs": [
        {
          "output_type": "stream",
          "name": "stdout",
          "text": [
            "Collecting pandas\n",
            "  Downloading pandas-1.3.5-cp37-cp37m-manylinux_2_17_x86_64.manylinux2014_x86_64.whl (11.3 MB)\n",
            "\u001b[K     |████████████████████████████████| 11.3 MB 15.0 MB/s \n",
            "\u001b[?25hCollecting numpy>=1.17.3\n",
            "  Downloading numpy-1.21.5-cp37-cp37m-manylinux_2_12_x86_64.manylinux2010_x86_64.whl (15.7 MB)\n",
            "\u001b[K     |████████████████████████████████| 15.7 MB 46.4 MB/s \n",
            "\u001b[?25hCollecting pytz>=2017.3\n",
            "  Downloading pytz-2021.3-py2.py3-none-any.whl (503 kB)\n",
            "\u001b[K     |████████████████████████████████| 503 kB 60.4 MB/s \n",
            "\u001b[?25hCollecting python-dateutil>=2.7.3\n",
            "  Downloading python_dateutil-2.8.2-py2.py3-none-any.whl (247 kB)\n",
            "\u001b[K     |████████████████████████████████| 247 kB 71.5 MB/s \n",
            "\u001b[?25hCollecting six>=1.5\n",
            "  Downloading six-1.16.0-py2.py3-none-any.whl (11 kB)\n",
            "Saved ./pandas-1.3.5-cp37-cp37m-manylinux_2_17_x86_64.manylinux2014_x86_64.whl\n",
            "Saved ./numpy-1.21.5-cp37-cp37m-manylinux_2_12_x86_64.manylinux2010_x86_64.whl\n",
            "Saved ./python_dateutil-2.8.2-py2.py3-none-any.whl\n",
            "Saved ./pytz-2021.3-py2.py3-none-any.whl\n",
            "Saved ./six-1.16.0-py2.py3-none-any.whl\n",
            "Successfully downloaded pandas numpy python-dateutil pytz six\n"
          ]
        }
      ]
    },
    {
      "cell_type": "markdown",
      "source": [
        "#ORIENTAÇÃO A OBJETO\n"
      ],
      "metadata": {
        "id": "YTaA4XiF5naM"
      }
    },
    {
      "cell_type": "code",
      "source": [
        "class nomeClasse:\n",
        "  pass"
      ],
      "metadata": {
        "id": "-vLXi2Ru4zAY"
      },
      "execution_count": 5,
      "outputs": []
    },
    {
      "cell_type": "code",
      "source": [
        "objeto = nomeClasse()"
      ],
      "metadata": {
        "id": "6HjppfM_5jaZ"
      },
      "execution_count": 6,
      "outputs": []
    },
    {
      "cell_type": "code",
      "source": [
        "objeto"
      ],
      "metadata": {
        "colab": {
          "base_uri": "https://localhost:8080/"
        },
        "id": "5KM_KG2T7zhI",
        "outputId": "361f6e73-006d-4329-b732-121c5a5c80a4"
      },
      "execution_count": 7,
      "outputs": [
        {
          "output_type": "execute_result",
          "data": {
            "text/plain": [
              "<__main__.nomeClasse at 0x7f43aa8810d0>"
            ]
          },
          "metadata": {},
          "execution_count": 7
        }
      ]
    },
    {
      "cell_type": "code",
      "source": [
        "class Cachorro:\n",
        "  #atributos\n",
        "  nome=\"Rex\"\n",
        "  idade = 5\n",
        "  cor = \"Preto e Branco\"\n",
        "  #comportamento\n",
        "  def Ladra(self):\n",
        "    print(\"Au Au Au\")\n",
        "  #Situação"
      ],
      "metadata": {
        "id": "bbk4Pulw6I3j"
      },
      "execution_count": 10,
      "outputs": []
    },
    {
      "cell_type": "code",
      "source": [
        "rex = Cachorro()"
      ],
      "metadata": {
        "id": "D5NcWXSd7ysm"
      },
      "execution_count": 11,
      "outputs": []
    },
    {
      "cell_type": "code",
      "source": [
        "rex.Ladra()"
      ],
      "metadata": {
        "colab": {
          "base_uri": "https://localhost:8080/"
        },
        "id": "rh0EC2OY79_r",
        "outputId": "838a266c-75cd-4984-fbcc-9b3593486a18"
      },
      "execution_count": 12,
      "outputs": [
        {
          "output_type": "stream",
          "name": "stdout",
          "text": [
            "Au Au Au\n"
          ]
        }
      ]
    },
    {
      "cell_type": "code",
      "source": [
        "class Pessoa:\n",
        "  def __init__(self,nome,idade,cpf):\n",
        "    self.nome = nome\n",
        "    self.idade = idade\n",
        "    self.cpf = cpf\n",
        "\n",
        "  def DizOla(self):\n",
        "    print(\"Olá,meu nome é\", self.nome)"
      ],
      "metadata": {
        "id": "8tF0a_qU8UNJ"
      },
      "execution_count": 16,
      "outputs": []
    },
    {
      "cell_type": "code",
      "source": [
        "luis = Pessoa ('Luis',28,12345678)"
      ],
      "metadata": {
        "id": "Pw5ideHl-OjZ"
      },
      "execution_count": 18,
      "outputs": []
    },
    {
      "cell_type": "code",
      "source": [
        "luis.DizOla()"
      ],
      "metadata": {
        "colab": {
          "base_uri": "https://localhost:8080/"
        },
        "id": "dzbTaCUH-fLE",
        "outputId": "fe36359d-d95f-4e13-8565-844bb137a2ed"
      },
      "execution_count": 19,
      "outputs": [
        {
          "output_type": "stream",
          "name": "stdout",
          "text": [
            "Olá,meu nome é Luis\n"
          ]
        }
      ]
    },
    {
      "cell_type": "code",
      "source": [
        "class Pessoa:\n",
        "  def __init__(self,nome,idade,cpf):\n",
        "    self.nome = nome\n",
        "    self.idade = idade\n",
        "    self.cpf = cpf\n",
        "\n",
        "    def GetNome(self):\n",
        "      return self.nome\n",
        "\n",
        "      def SetNome(self,novoNome):\n",
        "        self.nome = novoNome\n",
        "\n",
        "class Empregado(Pessoa):\n",
        "    def ehEmpregado(self):\n",
        "      return True"
      ],
      "metadata": {
        "id": "p_ujQcSOB5eo"
      },
      "execution_count": 37,
      "outputs": []
    },
    {
      "cell_type": "code",
      "source": [
        "luis = Empregado(\"luis\",28,123456)"
      ],
      "metadata": {
        "id": "F2-gm3kPCIzJ"
      },
      "execution_count": 38,
      "outputs": []
    },
    {
      "cell_type": "code",
      "source": [
        "luis.ehEmpregado()"
      ],
      "metadata": {
        "colab": {
          "base_uri": "https://localhost:8080/"
        },
        "id": "WwsGdkvAClnG",
        "outputId": "b9437d48-596d-4ae4-c7a7-52e5aeabedc6"
      },
      "execution_count": 39,
      "outputs": [
        {
          "output_type": "execute_result",
          "data": {
            "text/plain": [
              "True"
            ]
          },
          "metadata": {},
          "execution_count": 39
        }
      ]
    },
    {
      "cell_type": "code",
      "source": [
        "luis.nome"
      ],
      "metadata": {
        "colab": {
          "base_uri": "https://localhost:8080/",
          "height": 35
        },
        "id": "JenXdN8RCr0g",
        "outputId": "db77efae-9e36-4a18-e746-19017786f514"
      },
      "execution_count": 40,
      "outputs": [
        {
          "output_type": "execute_result",
          "data": {
            "application/vnd.google.colaboratory.intrinsic+json": {
              "type": "string"
            },
            "text/plain": [
              "'luis'"
            ]
          },
          "metadata": {},
          "execution_count": 40
        }
      ]
    },
    {
      "cell_type": "code",
      "source": [
        "luis.nome = \"Marcos\""
      ],
      "metadata": {
        "id": "g0w3_nLUCx60"
      },
      "execution_count": 41,
      "outputs": []
    },
    {
      "cell_type": "code",
      "source": [
        "luis.nome"
      ],
      "metadata": {
        "colab": {
          "base_uri": "https://localhost:8080/",
          "height": 35
        },
        "id": "YA2kNpM5C17G",
        "outputId": "e5679f7b-63da-47de-8228-f522d39d70e1"
      },
      "execution_count": 42,
      "outputs": [
        {
          "output_type": "execute_result",
          "data": {
            "application/vnd.google.colaboratory.intrinsic+json": {
              "type": "string"
            },
            "text/plain": [
              "'Marcos'"
            ]
          },
          "metadata": {},
          "execution_count": 42
        }
      ]
    },
    {
      "cell_type": "code",
      "source": [
        "class Cachorro:\n",
        "  def __init__(self,nome=\"Rex\",idade=2,rc=\"Não definida\"):\n",
        "    self.nome = nome\n",
        "    self.idade = idade\n",
        "    self.rc = rc\n",
        "\n",
        "    def DizOla(self):\n",
        "      print(\"Au Au\")\n",
        "\n",
        "class Poodle(Cachorro):\n",
        "    def Brincar(self):\n",
        "      return \"Estou brincando\""
      ],
      "metadata": {
        "id": "AvFl8_NQEHy1"
      },
      "execution_count": 34,
      "outputs": []
    },
    {
      "cell_type": "code",
      "source": [
        "cao_1=Poodle()"
      ],
      "metadata": {
        "id": "uv_3r1dgEiha"
      },
      "execution_count": 35,
      "outputs": []
    },
    {
      "cell_type": "code",
      "source": [
        "cao_1.nome"
      ],
      "metadata": {
        "colab": {
          "base_uri": "https://localhost:8080/",
          "height": 35
        },
        "id": "by_95eiREsYB",
        "outputId": "8ece4b6d-bcda-40bf-a0de-26a424086688"
      },
      "execution_count": 36,
      "outputs": [
        {
          "output_type": "execute_result",
          "data": {
            "application/vnd.google.colaboratory.intrinsic+json": {
              "type": "string"
            },
            "text/plain": [
              "'Rex'"
            ]
          },
          "metadata": {},
          "execution_count": 36
        }
      ]
    },
    {
      "cell_type": "code",
      "source": [
        "class Pessoa:\n",
        "  def __init__(self, nome, idade, cpf):\n",
        "    self.__nome = nome\n",
        "    self.__idade = idade\n",
        "    self.__cpf = cpf\n",
        "\n",
        "  def GetNome(self):\n",
        "    # regras de negócio\n",
        "    # para quem pode acessar\n",
        "    return self.__nome\n",
        "\n",
        "  def SetNome(self, novoNome):\n",
        "    # regras de negócio\n",
        "    # para quem pode acessar\n",
        "    self.__nome = novoNome\n",
        "\n",
        "  def GetRa(self):\n",
        "    return self.ra\n",
        "\n",
        "  def SetRa(self, novoRa):\n",
        "    self.ra = novoRa\n",
        "\n",
        "  def DizOla(self):\n",
        "    print(\"Olá, meu nome é \")\n",
        "\n",
        "class Empregado(Pessoa):\n",
        "\n",
        "  def __init__ (self, nome, idade, cpf, ra):\n",
        "    Pessoa.__init__(self, nome, idade, cpf)\n",
        "    self.ra = ra\n",
        "    \n",
        "    \n",
        "  def ehEmpregado(self):\n",
        "    return True\n"
      ],
      "metadata": {
        "id": "plmTQ-P7ExYr"
      },
      "execution_count": 80,
      "outputs": []
    },
    {
      "cell_type": "code",
      "source": [
        "# joao = Empregado(132)\n",
        "maria = Empregado('Maria', 20, 123465, 9966) "
      ],
      "metadata": {
        "id": "ZYwhY1o7K209"
      },
      "execution_count": 81,
      "outputs": []
    },
    {
      "cell_type": "code",
      "source": [
        "maria.GetNome()"
      ],
      "metadata": {
        "colab": {
          "base_uri": "https://localhost:8080/",
          "height": 35
        },
        "id": "_GCP4B3qK5tW",
        "outputId": "6ec34220-e8d0-46e5-82ea-d2544fb19ce1"
      },
      "execution_count": 82,
      "outputs": [
        {
          "output_type": "execute_result",
          "data": {
            "application/vnd.google.colaboratory.intrinsic+json": {
              "type": "string"
            },
            "text/plain": [
              "'Maria'"
            ]
          },
          "metadata": {},
          "execution_count": 82
        }
      ]
    },
    {
      "cell_type": "code",
      "source": [
        "maria.GetRa()"
      ],
      "metadata": {
        "colab": {
          "base_uri": "https://localhost:8080/"
        },
        "id": "2ly2tvCAM-WK",
        "outputId": "908f79a5-9d3b-44fe-ceee-53059c9eb5c7"
      },
      "execution_count": 83,
      "outputs": [
        {
          "output_type": "execute_result",
          "data": {
            "text/plain": [
              "9966"
            ]
          },
          "metadata": {},
          "execution_count": 83
        }
      ]
    },
    {
      "cell_type": "code",
      "source": [
        "maria.SetRa(111)"
      ],
      "metadata": {
        "id": "hNtFPIWrLWxW"
      },
      "execution_count": 84,
      "outputs": []
    },
    {
      "cell_type": "code",
      "source": [
        "maria.GetRa()"
      ],
      "metadata": {
        "colab": {
          "base_uri": "https://localhost:8080/"
        },
        "id": "eMLtlkKHM6ba",
        "outputId": "0e3ea538-cce2-41a1-c41f-b9c74a7bfd7a"
      },
      "execution_count": 85,
      "outputs": [
        {
          "output_type": "execute_result",
          "data": {
            "text/plain": [
              "111"
            ]
          },
          "metadata": {},
          "execution_count": 85
        }
      ]
    }
  ]
}