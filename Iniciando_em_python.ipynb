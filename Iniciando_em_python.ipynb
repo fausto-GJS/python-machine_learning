{
  "nbformat": 4,
  "nbformat_minor": 0,
  "metadata": {
    "colab": {
      "name": "Iniciando em python.ipynb",
      "provenance": [],
      "collapsed_sections": [],
      "authorship_tag": "ABX9TyM4m/CIxgCEF256NPO+JWXN",
      "include_colab_link": true
    },
    "kernelspec": {
      "name": "python3",
      "display_name": "Python 3"
    },
    "language_info": {
      "name": "python"
    }
  },
  "cells": [
    {
      "cell_type": "markdown",
      "metadata": {
        "id": "view-in-github",
        "colab_type": "text"
      },
      "source": [
        "<a href=\"https://colab.research.google.com/github/fausto-GJS/python-machine_learning/blob/main/Iniciando_em_python.ipynb\" target=\"_parent\"><img src=\"https://colab.research.google.com/assets/colab-badge.svg\" alt=\"Open In Colab\"/></a>"
      ]
    },
    {
      "cell_type": "code",
      "execution_count": null,
      "metadata": {
        "id": "rg21K0NBmnPn"
      },
      "outputs": [],
      "source": [
        ""
      ]
    },
    {
      "cell_type": "markdown",
      "source": [
        "# Escrevendo Hello world\n"
      ],
      "metadata": {
        "id": "X537Wm0qnwig"
      }
    },
    {
      "cell_type": "code",
      "source": [
        "print(\"Hello world\")\n",
        "print(2+3)\n",
        "idade = 33\n",
        "nome = \"fausto\"\n",
        "altura = 1.73\n",
        "lista_fruta =[\"maça\",\"banana\",\"morango\"]\n",
        "print(idade)\n",
        "print(nome)\n",
        "print(altura)\n",
        "print(lista_fruta)\n",
        "\n",
        "#verificar tipo\n",
        "type(idade)\n",
        "type(nome)\n",
        "type(altura)\n",
        "type(lista_fruta)\n",
        "\n",
        "\n"
      ],
      "metadata": {
        "colab": {
          "base_uri": "https://localhost:8080/"
        },
        "id": "3YxZgTbPn5ab",
        "outputId": "eb916adf-0d7f-44b3-fc15-ce70e2ac4b23"
      },
      "execution_count": 25,
      "outputs": [
        {
          "output_type": "stream",
          "name": "stdout",
          "text": [
            "Hello world\n",
            "5\n",
            "33\n",
            "fausto\n",
            "1.73\n",
            "['maça', 'banana', 'morango']\n"
          ]
        },
        {
          "output_type": "execute_result",
          "data": {
            "text/plain": [
              "list"
            ]
          },
          "metadata": {},
          "execution_count": 25
        }
      ]
    },
    {
      "cell_type": "code",
      "source": [
        "#converter\n",
        "idade_1 = \"10\"\n",
        "idade_2 = \"30\"\n",
        "print ((int(idade_1)+int(idade_2))/2)\n",
        "print ((float(idade_1)+float(idade_2))/2)"
      ],
      "metadata": {
        "colab": {
          "base_uri": "https://localhost:8080/"
        },
        "id": "HF8hYqFowWvY",
        "outputId": "e49e3bd3-dc5a-4934-ca16-ee7d04258638"
      },
      "execution_count": 11,
      "outputs": [
        {
          "output_type": "stream",
          "name": "stdout",
          "text": [
            "20.0\n",
            "20.0\n"
          ]
        }
      ]
    },
    {
      "cell_type": "code",
      "source": [
        "#controle de fluxo \n",
        "#if teste expression:\n",
        "# statement(s)\n",
        "idade_permitida = 21\n",
        "if idade_permitida <21:\n",
        "  print(\"Entrada Permitida\")\n",
        "elif idade_permitida ==21:\n",
        "  print(\"Pode entrar\")\n",
        "else:\n",
        "  print(\"Entrada não permitida\")  "
      ],
      "metadata": {
        "colab": {
          "base_uri": "https://localhost:8080/"
        },
        "id": "9flaQuGiwc24",
        "outputId": "51accfbe-c898-448c-a4dd-6d66a268ad5a"
      },
      "execution_count": 15,
      "outputs": [
        {
          "output_type": "stream",
          "name": "stdout",
          "text": [
            "Pode entrar\n"
          ]
        }
      ]
    },
    {
      "cell_type": "code",
      "source": [
        "#loop\n",
        "i=0\n",
        "while i <10:\n",
        "  i+=1\n",
        "  if i==5: #pular o 5\n",
        "    continue\n",
        "  print(i)\n",
        "  "
      ],
      "metadata": {
        "colab": {
          "base_uri": "https://localhost:8080/"
        },
        "id": "3EmPIWKFxVoP",
        "outputId": "f6dc1876-1e99-4488-eb69-e056d65d7d74"
      },
      "execution_count": 18,
      "outputs": [
        {
          "output_type": "stream",
          "name": "stdout",
          "text": [
            "1\n",
            "2\n",
            "3\n",
            "4\n",
            "6\n",
            "7\n",
            "8\n",
            "9\n",
            "10\n"
          ]
        }
      ]
    },
    {
      "cell_type": "code",
      "source": [
        "i=0\n",
        "while i <10:\n",
        "  i+=1\n",
        "  if i==5:\n",
        "    break\n",
        "  print(i)"
      ],
      "metadata": {
        "colab": {
          "base_uri": "https://localhost:8080/"
        },
        "id": "lX5xLDqP01RZ",
        "outputId": "b338fbce-79e3-40a3-8336-353175ec0f9c"
      },
      "execution_count": 20,
      "outputs": [
        {
          "output_type": "stream",
          "name": "stdout",
          "text": [
            "1\n",
            "2\n",
            "3\n",
            "4\n"
          ]
        }
      ]
    },
    {
      "cell_type": "code",
      "source": [
        "for numero in range(2,10,2):\n",
        "  print(numero)"
      ],
      "metadata": {
        "colab": {
          "base_uri": "https://localhost:8080/"
        },
        "id": "IFQBCpXUz7-V",
        "outputId": "d0489e21-522b-4fe5-9d0e-ae58a40a4e26"
      },
      "execution_count": 19,
      "outputs": [
        {
          "output_type": "stream",
          "name": "stdout",
          "text": [
            "2\n",
            "4\n",
            "6\n",
            "8\n"
          ]
        }
      ]
    },
    {
      "cell_type": "code",
      "source": [
        "#funções\n",
        "def validar_idade_com_retorno(idade):\n",
        "  idadePermitida = 21\n",
        "  if idadePermitida < idade:\n",
        "    print(\"Entrada Permitida\")\n",
        "  elif idadePermitida == idade:\n",
        "      print(\"Pode entrar\")\n",
        "  else:\n",
        "      print(\"Entrada não permitida\")  \n",
        "\n",
        "validar_idade_com_retorno(25)"
      ],
      "metadata": {
        "colab": {
          "base_uri": "https://localhost:8080/"
        },
        "id": "BZcanJDb0_ZR",
        "outputId": "fe4bf28f-5f4f-4f0d-9ab8-6e3702fda2e2"
      },
      "execution_count": 21,
      "outputs": [
        {
          "output_type": "stream",
          "name": "stdout",
          "text": [
            "Entrada não permitida\n"
          ]
        }
      ]
    },
    {
      "cell_type": "code",
      "source": [
        "def validar_idade_com_retorno(idade):\n",
        "  idadePermitida = 21\n",
        "  if idadePermitida < idade:\n",
        "    return\"Entrada Permitida\"\n",
        "  elif idadePermitida == idade:\n",
        "      return\"Pode entrar\"\n",
        "  else:\n",
        "      return\"Entrada não permitida\"\n",
        "\n",
        "validar_idade_com_retorno(20)"
      ],
      "metadata": {
        "colab": {
          "base_uri": "https://localhost:8080/",
          "height": 35
        },
        "id": "EtpMaf4g2JUu",
        "outputId": "aa3c4d84-f105-4760-9463-3b2571e7573c"
      },
      "execution_count": 22,
      "outputs": [
        {
          "output_type": "execute_result",
          "data": {
            "application/vnd.google.colaboratory.intrinsic+json": {
              "type": "string"
            },
            "text/plain": [
              "'Entrada não permitida'"
            ]
          },
          "metadata": {},
          "execution_count": 22
        }
      ]
    },
    {
      "cell_type": "code",
      "source": [
        "#entrada de dados pelo console\n",
        "idade = input(\"Entre com a idade \")\n",
        "print(idade)"
      ],
      "metadata": {
        "colab": {
          "base_uri": "https://localhost:8080/"
        },
        "id": "HfqpDWaH2sSM",
        "outputId": "61eb133c-f083-4c14-d304-182319a03dac"
      },
      "execution_count": 23,
      "outputs": [
        {
          "output_type": "stream",
          "name": "stdout",
          "text": [
            "Entre com a idade 20\n",
            "20\n"
          ]
        }
      ]
    },
    {
      "cell_type": "code",
      "source": [
        "#tratamento de exceções\n",
        "try:\n",
        "  int(\"10b\")\n",
        "except:\n",
        "  print(\"Houve uma exceção\")"
      ],
      "metadata": {
        "colab": {
          "base_uri": "https://localhost:8080/"
        },
        "id": "t7MerCNE2_iW",
        "outputId": "707a7057-cbaa-4219-895b-89fae71af9e7"
      },
      "execution_count": 24,
      "outputs": [
        {
          "output_type": "stream",
          "name": "stdout",
          "text": [
            "Houve uma exceção\n"
          ]
        }
      ]
    },
    {
      "cell_type": "code",
      "source": [
        "#importando biblioteca\n",
        "\n",
        "valor=10\n",
        "print(valor**0.5)#sem biblioteca\n",
        "\n",
        "import math as m \n",
        "print(m.sqrt(valor))#com biblioteca \n"
      ],
      "metadata": {
        "colab": {
          "base_uri": "https://localhost:8080/"
        },
        "id": "e3XwQ30733jo",
        "outputId": "4e9833fa-7672-4570-bcec-7eb33d4d43ae"
      },
      "execution_count": 28,
      "outputs": [
        {
          "output_type": "stream",
          "name": "stdout",
          "text": [
            "3.1622776601683795\n",
            "3.1622776601683795\n"
          ]
        }
      ]
    },
    {
      "cell_type": "code",
      "source": [
        "import math\n",
        "from math import sqrt\n",
        "sqrt(valor)\n",
        "\n",
        "from math import sqrt as raiz_quadrada\n",
        "raiz_quadrada(valor)\n"
      ],
      "metadata": {
        "id": "u_Fqyklh5lVm"
      },
      "execution_count": null,
      "outputs": []
    }
  ]
}