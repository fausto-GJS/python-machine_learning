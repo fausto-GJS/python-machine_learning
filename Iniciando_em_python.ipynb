{
  "nbformat": 4,
  "nbformat_minor": 0,
  "metadata": {
    "colab": {
      "name": "Iniciando em python.ipynb",
      "provenance": [],
      "collapsed_sections": [],
      "authorship_tag": "ABX9TyMzrZILYSs3IuLzpoYn14ty",
      "include_colab_link": true
    },
    "kernelspec": {
      "name": "python3",
      "display_name": "Python 3"
    },
    "language_info": {
      "name": "python"
    }
  },
  "cells": [
    {
      "cell_type": "markdown",
      "metadata": {
        "id": "view-in-github",
        "colab_type": "text"
      },
      "source": [
        "<a href=\"https://colab.research.google.com/github/fausto-GJS/python-machine_learning/blob/main/Iniciando_em_python.ipynb\" target=\"_parent\"><img src=\"https://colab.research.google.com/assets/colab-badge.svg\" alt=\"Open In Colab\"/></a>"
      ]
    },
    {
      "cell_type": "code",
      "execution_count": null,
      "metadata": {
        "id": "rg21K0NBmnPn"
      },
      "outputs": [],
      "source": [
        ""
      ]
    },
    {
      "cell_type": "markdown",
      "source": [
        "# Escrevendo Hello world\n"
      ],
      "metadata": {
        "id": "X537Wm0qnwig"
      }
    },
    {
      "cell_type": "code",
      "source": [
        "print(\"Hello world\")\n",
        "print(2+3)\n",
        "idade = 33\n",
        "nome = \"fausto\"\n",
        "altura = 1.73\n",
        "lista_fruta =[\"maça\",\"banana\",\"morango\"]\n",
        "print(idade)\n",
        "print(nome)\n",
        "print(altura)\n",
        "print(lista_fruta)\n",
        "\n",
        "#verificar tipo\n",
        "type(idade)\n",
        "type(nome)\n",
        "type(altura)\n",
        "type(lista_fruta)\n",
        "\n",
        "\n"
      ],
      "metadata": {
        "colab": {
          "base_uri": "https://localhost:8080/"
        },
        "id": "3YxZgTbPn5ab",
        "outputId": "3cb572c2-fa29-41ff-ab83-c377b6658dbc"
      },
      "execution_count": 10,
      "outputs": [
        {
          "output_type": "stream",
          "name": "stdout",
          "text": [
            "Hello world\n",
            "5\n",
            "33\n",
            "fausto\n",
            "1.73\n",
            "['maça', 'banana', 'morango']\n",
            "20.0\n",
            "20.0\n"
          ]
        }
      ]
    },
    {
      "cell_type": "code",
      "source": [
        "#converter\n",
        "idade_1 = \"10\"\n",
        "idade_2 = \"30\"\n",
        "print ((int(idade_1)+int(idade_2))/2)\n",
        "print ((float(idade_1)+float(idade_2))/2)"
      ],
      "metadata": {
        "colab": {
          "base_uri": "https://localhost:8080/"
        },
        "id": "HF8hYqFowWvY",
        "outputId": "e49e3bd3-dc5a-4934-ca16-ee7d04258638"
      },
      "execution_count": 11,
      "outputs": [
        {
          "output_type": "stream",
          "name": "stdout",
          "text": [
            "20.0\n",
            "20.0\n"
          ]
        }
      ]
    },
    {
      "cell_type": "code",
      "source": [
        "#controle de fluxo \n",
        "#if teste expression:\n",
        "# statement(s)\n",
        "idade_permitida = 21\n",
        "if idade_permitida >21:\n",
        "  print(\"Entrada Permitida\")\n",
        "elif idade_permitida ==21:\n",
        "  print(\"Pode entrar\")\n",
        "else:\n",
        "  print(\"Entrada não permitida\")  "
      ],
      "metadata": {
        "colab": {
          "base_uri": "https://localhost:8080/"
        },
        "id": "9flaQuGiwc24",
        "outputId": "51accfbe-c898-448c-a4dd-6d66a268ad5a"
      },
      "execution_count": 15,
      "outputs": [
        {
          "output_type": "stream",
          "name": "stdout",
          "text": [
            "Pode entrar\n"
          ]
        }
      ]
    },
    {
      "cell_type": "code",
      "source": [
        "#loop\n",
        "i=0\n",
        "while i <10:\n",
        "  i+=1\n",
        "  if i==5: #pular o 5\n",
        "    continue\n",
        "  print(i)\n",
        "  "
      ],
      "metadata": {
        "colab": {
          "base_uri": "https://localhost:8080/"
        },
        "id": "3EmPIWKFxVoP",
        "outputId": "f6dc1876-1e99-4488-eb69-e056d65d7d74"
      },
      "execution_count": 18,
      "outputs": [
        {
          "output_type": "stream",
          "name": "stdout",
          "text": [
            "1\n",
            "2\n",
            "3\n",
            "4\n",
            "6\n",
            "7\n",
            "8\n",
            "9\n",
            "10\n"
          ]
        }
      ]
    },
    {
      "cell_type": "code",
      "source": [
        "for numero in range(2,10,2):\n",
        "  print(numero)"
      ],
      "metadata": {
        "colab": {
          "base_uri": "https://localhost:8080/"
        },
        "id": "IFQBCpXUz7-V",
        "outputId": "d0489e21-522b-4fe5-9d0e-ae58a40a4e26"
      },
      "execution_count": 19,
      "outputs": [
        {
          "output_type": "stream",
          "name": "stdout",
          "text": [
            "2\n",
            "4\n",
            "6\n",
            "8\n"
          ]
        }
      ]
    }
  ]
}