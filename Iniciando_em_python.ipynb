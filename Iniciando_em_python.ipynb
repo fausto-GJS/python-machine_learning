{
  "nbformat": 4,
  "nbformat_minor": 0,
  "metadata": {
    "colab": {
      "name": "Iniciando em python.ipynb",
      "provenance": [],
      "collapsed_sections": [],
      "authorship_tag": "ABX9TyOqC1POKuHcMuA6VQ7TR4qu",
      "include_colab_link": true
    },
    "kernelspec": {
      "name": "python3",
      "display_name": "Python 3"
    },
    "language_info": {
      "name": "python"
    }
  },
  "cells": [
    {
      "cell_type": "markdown",
      "metadata": {
        "id": "view-in-github",
        "colab_type": "text"
      },
      "source": [
        "<a href=\"https://colab.research.google.com/github/fausto-GJS/python-machine_learning/blob/main/Iniciando_em_python.ipynb\" target=\"_parent\"><img src=\"https://colab.research.google.com/assets/colab-badge.svg\" alt=\"Open In Colab\"/></a>"
      ]
    },
    {
      "cell_type": "code",
      "execution_count": null,
      "metadata": {
        "id": "rg21K0NBmnPn"
      },
      "outputs": [],
      "source": [
        ""
      ]
    },
    {
      "cell_type": "markdown",
      "source": [
        "# Escrevendo Hello world\n"
      ],
      "metadata": {
        "id": "X537Wm0qnwig"
      }
    },
    {
      "cell_type": "code",
      "source": [
        "print(\"Hello world\")\n",
        "print(2+3)\n",
        "idade = 33\n",
        "nome = \"fausto\"\n",
        "altura = 1.73\n",
        "lista_fruta =[\"maça\",\"banana\",\"morango\"]\n",
        "print(idade)\n",
        "print(nome)\n",
        "print(altura)\n",
        "print(lista_fruta)\n",
        "\n",
        "#verificar tipo\n",
        "type(idade)\n",
        "type(nome)\n",
        "type(altura)\n",
        "type(lista_fruta)\n",
        "\n",
        "\n"
      ],
      "metadata": {
        "colab": {
          "base_uri": "https://localhost:8080/"
        },
        "id": "3YxZgTbPn5ab",
        "outputId": "3cb572c2-fa29-41ff-ab83-c377b6658dbc"
      },
      "execution_count": null,
      "outputs": [
        {
          "output_type": "stream",
          "name": "stdout",
          "text": [
            "Hello world\n",
            "5\n",
            "33\n",
            "fausto\n",
            "1.73\n",
            "['maça', 'banana', 'morango']\n",
            "20.0\n",
            "20.0\n"
          ]
        }
      ]
    },
    {
      "cell_type": "code",
      "source": [
        "#converter\n",
        "idade_1 = \"10\"\n",
        "idade_2 = \"30\"\n",
        "print ((int(idade_1)+int(idade_2))/2)\n",
        "print ((float(idade_1)+float(idade_2))/2)"
      ],
      "metadata": {
        "colab": {
          "base_uri": "https://localhost:8080/"
        },
        "id": "HF8hYqFowWvY",
        "outputId": "e49e3bd3-dc5a-4934-ca16-ee7d04258638"
      },
      "execution_count": null,
      "outputs": [
        {
          "output_type": "stream",
          "name": "stdout",
          "text": [
            "20.0\n",
            "20.0\n"
          ]
        }
      ]
    },
    {
      "cell_type": "code",
      "source": [
        "#controle de fluxo \n",
        "#if teste expression:\n",
        "# statement(s)\n",
        "idade_permitida = 21\n",
        "if idade_permitida >21:\n",
        "  print(\"Entrada Permitida\")\n",
        "elif idade_permitida ==21:\n",
        "  print(\"Pode entrar\")\n",
        "else:\n",
        "  print(\"Entrada não permitida\")  "
      ],
      "metadata": {
        "colab": {
          "base_uri": "https://localhost:8080/"
        },
        "id": "9flaQuGiwc24",
        "outputId": "51accfbe-c898-448c-a4dd-6d66a268ad5a"
      },
      "execution_count": null,
      "outputs": [
        {
          "output_type": "stream",
          "name": "stdout",
          "text": [
            "Pode entrar\n"
          ]
        }
      ]
    },
    {
      "cell_type": "code",
      "source": [
        "#loop\n",
        "i=0\n",
        "while i <10:\n",
        "  i+=1\n",
        "  if i==5: #pular o 5\n",
        "    continue\n",
        "  print(i)\n",
        "  "
      ],
      "metadata": {
        "colab": {
          "base_uri": "https://localhost:8080/"
        },
        "id": "3EmPIWKFxVoP",
        "outputId": "f6dc1876-1e99-4488-eb69-e056d65d7d74"
      },
      "execution_count": null,
      "outputs": [
        {
          "output_type": "stream",
          "name": "stdout",
          "text": [
            "1\n",
            "2\n",
            "3\n",
            "4\n",
            "6\n",
            "7\n",
            "8\n",
            "9\n",
            "10\n"
          ]
        }
      ]
    },
    {
      "cell_type": "code",
      "source": [
        "!pip download pandas #instalando biblioteca pandas"
      ],
      "metadata": {
        "colab": {
          "base_uri": "https://localhost:8080/"
        },
        "id": "J0RBw0nX7RH1",
        "outputId": "fb9c534f-4aa3-47d8-ff12-b2b37060ea5d"
      },
      "execution_count": 4,
      "outputs": [
        {
          "output_type": "stream",
          "name": "stdout",
          "text": [
            "Collecting pandas\n",
            "  Downloading pandas-1.3.5-cp37-cp37m-manylinux_2_17_x86_64.manylinux2014_x86_64.whl (11.3 MB)\n",
            "\u001b[K     |████████████████████████████████| 11.3 MB 15.0 MB/s \n",
            "\u001b[?25hCollecting numpy>=1.17.3\n",
            "  Downloading numpy-1.21.5-cp37-cp37m-manylinux_2_12_x86_64.manylinux2010_x86_64.whl (15.7 MB)\n",
            "\u001b[K     |████████████████████████████████| 15.7 MB 46.4 MB/s \n",
            "\u001b[?25hCollecting pytz>=2017.3\n",
            "  Downloading pytz-2021.3-py2.py3-none-any.whl (503 kB)\n",
            "\u001b[K     |████████████████████████████████| 503 kB 60.4 MB/s \n",
            "\u001b[?25hCollecting python-dateutil>=2.7.3\n",
            "  Downloading python_dateutil-2.8.2-py2.py3-none-any.whl (247 kB)\n",
            "\u001b[K     |████████████████████████████████| 247 kB 71.5 MB/s \n",
            "\u001b[?25hCollecting six>=1.5\n",
            "  Downloading six-1.16.0-py2.py3-none-any.whl (11 kB)\n",
            "Saved ./pandas-1.3.5-cp37-cp37m-manylinux_2_17_x86_64.manylinux2014_x86_64.whl\n",
            "Saved ./numpy-1.21.5-cp37-cp37m-manylinux_2_12_x86_64.manylinux2010_x86_64.whl\n",
            "Saved ./python_dateutil-2.8.2-py2.py3-none-any.whl\n",
            "Saved ./pytz-2021.3-py2.py3-none-any.whl\n",
            "Saved ./six-1.16.0-py2.py3-none-any.whl\n",
            "Successfully downloaded pandas numpy python-dateutil pytz six\n"
          ]
        }
      ]
    },
    {
      "cell_type": "markdown",
      "source": [
        "#ORIENTAÇÃO A OBJETO\n"
      ],
      "metadata": {
        "id": "YTaA4XiF5naM"
      }
    },
    {
      "cell_type": "code",
      "source": [
        "class nomeClasse:\n",
        "  pass"
      ],
      "metadata": {
        "id": "-vLXi2Ru4zAY"
      },
      "execution_count": 5,
      "outputs": []
    },
    {
      "cell_type": "code",
      "source": [
        "objeto = nomeClasse()"
      ],
      "metadata": {
        "id": "6HjppfM_5jaZ"
      },
      "execution_count": 6,
      "outputs": []
    },
    {
      "cell_type": "code",
      "source": [
        "objeto"
      ],
      "metadata": {
        "colab": {
          "base_uri": "https://localhost:8080/"
        },
        "id": "5KM_KG2T7zhI",
        "outputId": "361f6e73-006d-4329-b732-121c5a5c80a4"
      },
      "execution_count": 7,
      "outputs": [
        {
          "output_type": "execute_result",
          "data": {
            "text/plain": [
              "<__main__.nomeClasse at 0x7f43aa8810d0>"
            ]
          },
          "metadata": {},
          "execution_count": 7
        }
      ]
    },
    {
      "cell_type": "code",
      "source": [
        "class Cachorro:\n",
        "  #atributos\n",
        "  nome=\"Rex\"\n",
        "  idade = 5\n",
        "  cor = \"Preto e Branco\"\n",
        "  #comportamento\n",
        "  def Ladra(self):\n",
        "    print(\"Au Au Au\")\n",
        "  #Situação"
      ],
      "metadata": {
        "id": "bbk4Pulw6I3j"
      },
      "execution_count": 10,
      "outputs": []
    },
    {
      "cell_type": "code",
      "source": [
        "rex = Cachorro()"
      ],
      "metadata": {
        "id": "D5NcWXSd7ysm"
      },
      "execution_count": 11,
      "outputs": []
    },
    {
      "cell_type": "code",
      "source": [
        "rex.Ladra()"
      ],
      "metadata": {
        "colab": {
          "base_uri": "https://localhost:8080/"
        },
        "id": "rh0EC2OY79_r",
        "outputId": "838a266c-75cd-4984-fbcc-9b3593486a18"
      },
      "execution_count": 12,
      "outputs": [
        {
          "output_type": "stream",
          "name": "stdout",
          "text": [
            "Au Au Au\n"
          ]
        }
      ]
    },
    {
      "cell_type": "code",
      "source": [
        "class Pessoa:\n",
        "  def __init__(self,nome,idade,cpf):\n",
        "    self.nome=nome\n",
        "    self.idade = idade\n",
        "    self.cpf = cpf\n",
        "\n",
        "  def DizOla(self):\n",
        "    print(\"Olá,meu nome é\", self.nome)"
      ],
      "metadata": {
        "id": "8tF0a_qU8UNJ"
      },
      "execution_count": 16,
      "outputs": []
    },
    {
      "cell_type": "code",
      "source": [
        "luis = Pessoa ('Luis',28,12345678)"
      ],
      "metadata": {
        "id": "Pw5ideHl-OjZ"
      },
      "execution_count": 18,
      "outputs": []
    },
    {
      "cell_type": "code",
      "source": [
        "luis.DizOla()"
      ],
      "metadata": {
        "id": "dzbTaCUH-fLE",
        "outputId": "fe36359d-d95f-4e13-8565-844bb137a2ed",
        "colab": {
          "base_uri": "https://localhost:8080/"
        }
      },
      "execution_count": 19,
      "outputs": [
        {
          "output_type": "stream",
          "name": "stdout",
          "text": [
            "Olá,meu nome é Luis\n"
          ]
        }
      ]
    }
  ]
}