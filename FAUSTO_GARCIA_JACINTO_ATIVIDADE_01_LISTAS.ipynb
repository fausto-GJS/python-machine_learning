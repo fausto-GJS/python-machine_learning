{
  "nbformat": 4,
  "nbformat_minor": 0,
  "metadata": {
    "colab": {
      "name": "Cópia de FAUSTO GARCIA JACINTO - ATIVIDADE_01_LISTAS.ipynb",
      "provenance": [],
      "collapsed_sections": [],
      "include_colab_link": true
    },
    "kernelspec": {
      "name": "python3",
      "display_name": "Python 3"
    },
    "language_info": {
      "name": "python"
    }
  },
  "cells": [
    {
      "cell_type": "markdown",
      "metadata": {
        "id": "view-in-github",
        "colab_type": "text"
      },
      "source": [
        "<a href=\"https://colab.research.google.com/github/fausto-GJS/python-machine_learning/blob/main/FAUSTO_GARCIA_JACINTO_ATIVIDADE_01_LISTAS.ipynb\" target=\"_parent\"><img src=\"https://colab.research.google.com/assets/colab-badge.svg\" alt=\"Open In Colab\"/></a>"
      ]
    },
    {
      "cell_type": "markdown",
      "source": [
        "# Lista de Exercícios\n",
        "## Valor: _100 pontos_ pela entrega\n",
        "\n",
        "### Orientações\n",
        "*  Devem ser utilizados todos os recursos aprendidos até o momento, como:\n",
        "  *  Declaração de variáveis\n",
        "  *  Operadores (aritméticos, lógicos, relacionais etc.)\n",
        "  *  Desvios condicionais (simples ou aninhados)\n",
        "  *  Estruturas de repetição ``for`` e ``while``\n",
        "  *  Listas ``list`` e seus componentes (métodos)\n",
        "* A interpretação dos enunciados faz parte da resolução dos problemas.\n",
        "* As resoluções devem permitir que novos dados sejam computados __sem a necessidade de alteração nos algoritmos__.\n",
        "___"
      ],
      "metadata": {
        "id": "D1BB270jgIwZ"
      }
    },
    {
      "cell_type": "markdown",
      "source": [
        "### 1. Faça um Programa que leia 20 números inteiros e armazene-os em uma lista. Armazene os números pares na lista PAR e os números IMPARES na lista ímpar. Imprima as três listas."
      ],
      "metadata": {
        "id": "Tzq-TeXRgNj8"
      }
    },
    {
      "cell_type": "code",
      "source": [
        "# Resolução\n",
        "lista = [] \n",
        "par=[]\n",
        "impar=[]\n",
        "\n",
        "for i in range(21):   \n",
        "  lista.append(i) \n",
        "  if(lista[i]%2):\n",
        "   impar.append(i)\n",
        "  else:\n",
        "    par.append(i)\n",
        "       \n",
        "print(\"lista: \",lista) \n",
        "print(\"par: \",par) \n",
        "print(\"impar: \",impar)"
      ],
      "metadata": {
        "id": "zNIayHZAgeCq",
        "colab": {
          "base_uri": "https://localhost:8080/"
        },
        "outputId": "5d19679c-c61d-4074-bf72-65d15bd9e120"
      },
      "execution_count": 47,
      "outputs": [
        {
          "output_type": "stream",
          "name": "stdout",
          "text": [
            "lista:  [0, 1, 2, 3, 4, 5, 6, 7, 8, 9, 10, 11, 12, 13, 14, 15, 16, 17, 18, 19, 20]\n",
            "par:  [0, 2, 4, 6, 8, 10, 12, 14, 16, 18, 20]\n",
            "impar:  [1, 3, 5, 7, 9, 11, 13, 15, 17, 19]\n"
          ]
        }
      ]
    },
    {
      "cell_type": "markdown",
      "source": [
        "### 2. Faça um programa que receba a temperatura média de cada mês do ano e armazene-as em uma lista. Após isto, calcule a média anual das temperaturas e mostre todas as temperaturas acima da média anual, e em que mês elas ocorreram (mostrar o mês por extenso: 1 – Janeiro, 2 – Fevereiro, . . . )."
      ],
      "metadata": {
        "id": "H3hzFjXbgNvD"
      }
    },
    {
      "cell_type": "code",
      "source": [
        "# Resolução"
      ],
      "metadata": {
        "id": "QYPa5mbdgqjB"
      },
      "execution_count": 48,
      "outputs": []
    },
    {
      "cell_type": "markdown",
      "source": [
        "### 3. Faça um programa que leia um número indeterminado de valores, correspondentes a notas, encerrando a entrada de dados quando for informado um valor igual a -1 (que não deve ser armazenado). Após esta entrada de dados, faça:\n",
        "\n",
        "*  Mostre a quantidade de valores que foram lidos;\n",
        "*  Exiba todos os valores na ordem em que foram informados, um ao lado do outro;\n",
        "*  Exiba todos os valores na ordem inversa à que foram informados, um abaixo do outro;\n",
        "*  Calcule e mostre a soma dos valores;\n",
        "*  Calcule e mostre a média dos valores;\n",
        "*  Calcule e mostre a quantidade de valores acima da média calculada;\n",
        "*  Calcule e mostre a quantidade de valores abaixo de sete;\n",
        "*  Encerre o programa com uma mensagem;"
      ],
      "metadata": {
        "id": "UJ37_YZ9gNy7"
      }
    },
    {
      "cell_type": "code",
      "source": [
        "# Resolução"
      ],
      "metadata": {
        "id": "RA4UjYJvhFOd"
      },
      "execution_count": 49,
      "outputs": []
    },
    {
      "cell_type": "markdown",
      "source": [
        "### 4. Uma empresa paga seus vendedores com base em comissões. O vendedor recebe R\\$ 200 por semana mais 9 por cento de suas vendas brutas daquela semana. Por exemplo, um vendedor que teve vendas brutas de R\\$ 3000 em uma semana recebe R\\$ 200 mais 9 por cento de R\\$ 3000, ou seja, um total de R\\$ 470. Escreva um programa (usando listaa) que determine quantos vendedores receberam salários nos seguintes intervalos de valores:\n",
        "*  R\\$ 200 - R\\$ 299\n",
        "*  R\\$ 300 - R\\$ 399\n",
        "*  R\\$ 400 - R\\$ 499\n",
        "*  R\\$ 500 - R\\$ 599\n",
        "*  R\\$ 600 - R\\$ 699\n",
        "*  R\\$ 700 - R\\$ 799\n",
        "*  R\\$ 800 - R\\$ 899\n",
        "*  R\\$ 900 - R\\$ 999\n",
        "*  R\\$ 1000 em diante\n",
        "\n",
        "__Desafio__: Crie uma fórmula para chegar na posição da lista a partir do salário, sem fazer vários ``ifs`` aninhados."
      ],
      "metadata": {
        "id": "QtKUr18dgN2j"
      }
    },
    {
      "cell_type": "code",
      "source": [
        "# Resolução"
      ],
      "metadata": {
        "id": "kRjkH3JziIo0"
      },
      "execution_count": 50,
      "outputs": []
    },
    {
      "cell_type": "markdown",
      "source": [
        "### 5. Foram anotadas as idades e alturas de 30 alunos. Faça um Programa que determine quantos alunos com mais de 13 anos possuem altura inferior à média de altura desses alunos."
      ],
      "metadata": {
        "id": "h4OfY_r7gN6r"
      }
    },
    {
      "cell_type": "code",
      "source": [
        "# Resolução\n",
        "idade=[]\n",
        "altura=[]\n",
        "aluno=10\n",
        "for i in range(aluno):\n",
        "  idade.append(int(input(\"digite a idade: \")))\n",
        "  altura.append(float(input(\"digite a altura: \")))\n",
        "media=sum(altura)/aluno\n",
        "print(media)\n",
        "for j in range(aluno):\n",
        "  if(idade[j]>=13):\n",
        "    if(altura[j]<media):\n",
        "      print(\"abaixo da média - idade: \",idade[j],\" altura: \",altura[j])"
      ],
      "metadata": {
        "id": "GlZ65DanidsW",
        "colab": {
          "base_uri": "https://localhost:8080/"
        },
        "outputId": "eeb7de08-5243-4d6c-b7cf-7d5874118592"
      },
      "execution_count": 63,
      "outputs": [
        {
          "output_type": "stream",
          "name": "stdout",
          "text": [
            "digite a idade: 13\n",
            "digite a altura: 1.50\n",
            "digite a idade: 13\n",
            "digite a altura: 1.49\n",
            "digite a idade: 13\n",
            "digite a altura: 1.80\n",
            "digite a idade: 13\n",
            "digite a altura: 1.30\n",
            "digite a idade: 13\n",
            "digite a altura: 1.10\n",
            "digite a idade: 13\n",
            "digite a altura: 1.01\n",
            "digite a idade: 13\n",
            "digite a altura: 1.00\n",
            "digite a idade: 13\n",
            "digite a altura: 1.10\n",
            "digite a idade: 13\n",
            "digite a altura: 1.05\n",
            "digite a idade: 13\n",
            "digite a altura: 1.00\n",
            "1.2349999999999999\n",
            "abaixo da média - idade:  13  altura:  1.1\n",
            "abaixo da média - idade:  13  altura:  1.01\n",
            "abaixo da média - idade:  13  altura:  1.0\n",
            "abaixo da média - idade:  13  altura:  1.1\n",
            "abaixo da média - idade:  13  altura:  1.05\n",
            "abaixo da média - idade:  13  altura:  1.0\n"
          ]
        }
      ]
    },
    {
      "cell_type": "markdown",
      "source": [
        "### 6. Faça um Programa que leia uma lista A com 10 números inteiros, calcule e mostre a soma dos quadrados dos elementos contidos na lista."
      ],
      "metadata": {
        "id": "tWT-PerPgN-T"
      }
    },
    {
      "cell_type": "code",
      "source": [
        "# Resolução\n",
        "lista=[]\n",
        "i=0\n",
        "for i in range(10):\n",
        "  lista.append(int(input(\"digite um numero: \")))\n",
        "soma = sum(lista)\n",
        "print(\"a soma da lista é: %d \" % soma)"
      ],
      "metadata": {
        "id": "uRaATNpxikmh",
        "colab": {
          "base_uri": "https://localhost:8080/"
        },
        "outputId": "2fae7965-c3cc-4f88-c9d8-3add9ea262e9"
      },
      "execution_count": 64,
      "outputs": [
        {
          "output_type": "stream",
          "name": "stdout",
          "text": [
            "digite um numero: 5\n",
            "digite um numero: 4\n",
            "digite um numero: 3\n",
            "digite um numero: 2\n",
            "digite um numero: 1\n",
            "digite um numero: 5\n",
            "digite um numero: 9\n",
            "digite um numero: 10\n",
            "digite um numero: 7\n",
            "digite um numero: 5\n",
            "a soma da lista é: 51 \n"
          ]
        }
      ]
    },
    {
      "cell_type": "markdown",
      "source": [
        "### 7. Faça um Programa que leia uma lista de 10 caracteres, e diga quantas consoantes foram lidas. Imprima as consoantes."
      ],
      "metadata": {
        "id": "MWxzq8OigOCb"
      }
    },
    {
      "cell_type": "code",
      "source": [
        "# Resolução\n",
        "lista=[]\n",
        "consoantes=[]\n",
        "consoante=0\n",
        "for i in range(10):\n",
        "  letra=(input(\"digite uma letra: \"))\n",
        "  lista.append(letra)\n",
        "  if letra in 'aeiou':\n",
        "   continue\n",
        "  else:\n",
        "    consoantes.append(letra)\n",
        "    consoante+=1\n",
        "print(\"Lista de caracteres: \",lista)\n",
        "print(\"quantidade de consoantes: \",consoante)\n",
        "print(\"Lista de consoantes: \",consoantes)"
      ],
      "metadata": {
        "id": "MHy8mMBwixKO",
        "colab": {
          "base_uri": "https://localhost:8080/"
        },
        "outputId": "d6a1f6ae-f683-4623-af0a-5714785ccaf5"
      },
      "execution_count": 69,
      "outputs": [
        {
          "output_type": "stream",
          "name": "stdout",
          "text": [
            "digite uma letra: a\n",
            "digite uma letra: b\n",
            "digite uma letra: c\n",
            "digite uma letra: d\n",
            "digite uma letra: e\n",
            "digite uma letra: f\n",
            "digite uma letra: g\n",
            "digite uma letra: h\n",
            "digite uma letra: i\n",
            "digite uma letra: j\n",
            "Lista de caracteres:  ['a', 'b', 'c', 'd', 'e', 'f', 'g', 'h', 'i', 'j']\n",
            "quantidade de consoantes:  7\n",
            "Lista de consoantes:  ['b', 'c', 'd', 'f', 'g', 'h', 'j']\n"
          ]
        }
      ]
    },
    {
      "cell_type": "markdown",
      "source": [
        "### 8. Em uma competição de salto em distância cada atleta tem direito a cinco saltos. O resultado do atleta será determinado pela média dos cinco valores restantes. Você deve fazer um programa que receba o nome e as cinco distâncias alcançadas pelo atleta em seus saltos e depois informe o nome, os saltos e a média dos saltos. O programa deve ser encerrado quando não for informado o nome do atleta. A saída do programa deve ser conforme o exemplo abaixo:\n",
        "\n",
        "```\n",
        "Atleta: João do Pulo\n",
        " \n",
        "Primeiro Salto: 6.5 m\n",
        "Segundo Salto: 6.1 m\n",
        "Terceiro Salto: 6.2 m\n",
        "Quarto Salto: 5.4 m\n",
        "Quinto Salto: 5.3 m\n",
        "\n",
        "Resultado final:\n",
        "Atleta: João do Pulo\n",
        "Saltos: 6.5 - 6.1 - 6.2 - 5.4 - 5.3\n",
        "Média dos saltos: 5.9 m\n",
        "```"
      ],
      "metadata": {
        "id": "JVgvAZ5KgOGD"
      }
    },
    {
      "cell_type": "code",
      "source": [
        "# Resolução\n",
        "nome=\"\"\n",
        "salto1=0\n",
        "salto2=1\n",
        "salto3=2\n",
        "salto4=4\n",
        "salto5=0\n",
        "media=0\n",
        "\n",
        "nome=input(\"Digite o nome do atleta: \")\n",
        "salto1=input(\"Digite o primeiro  salto: \")\n",
        "salto2=input(\"Digite o segundo  salto: \")\n",
        "salto3=input(\"Digite o terceiro salto: \")\n",
        "salto4=input(\"Digite o quarto   salto: \")\n",
        "salto5=input(\"Digite o quinto   salto: \")\n",
        "if(salto1==\"\"):\n",
        "  salto1=0\n",
        "else:\n",
        "  salto1=float(salto1)\n",
        "if(salto2==\"\"):\n",
        "  salto2=0\n",
        "else:\n",
        "  salto2=float(salto2)\n",
        "if(salto3==\"\"):\n",
        "  salto3=0\n",
        "else:\n",
        "  salto3=float(salto3)\n",
        "if(salto4==\"\"):\n",
        "  salto4=0\n",
        "else:\n",
        "  salto4=float(salto4)\n",
        "if(salto5==\"\"):\n",
        "  salto5=0\n",
        "else:\n",
        "  salto5=float(salto5)\n",
        "media=(salto1+salto2+salto3+salto4+salto5)/5\n",
        "print(\"-----------------------------------\")\n",
        "print(\"\")\n",
        "print(\"Atleta: \",nome )\n",
        "print(\"\")\n",
        "print(\"Primeiro Salto: \",salto1,\" m\")\n",
        "print(\"Segundo Salto: \",salto2,\" m\")\n",
        "print(\"Terceiro Salto: \",salto3,\" m\")\n",
        "print(\"Quarto Salto: \",salto4,\" m\")\n",
        "print(\"Quinto Salto: \",salto5,\" m\")\n",
        "print(\"\")\n",
        "print(\"Resultado final: \")\n",
        "print(\"Atleta: \",nome)\n",
        "print(\"Saltos: \",salto1,\" - \",salto2,\" - \",salto3,\" - \",salto4,\" - \",salto5)\n",
        "print(\"Média dos saltos: \",media,\" m\")\n",
        "\n",
        "\n"
      ],
      "metadata": {
        "id": "uzVoTlTpjCt_",
        "colab": {
          "base_uri": "https://localhost:8080/"
        },
        "outputId": "05f61b73-bcff-4c47-a56c-e75094ab4ef9"
      },
      "execution_count": 88,
      "outputs": [
        {
          "output_type": "stream",
          "name": "stdout",
          "text": [
            "Digite o nome do atleta: Fausto\n",
            "Digite o primeiro  salto: 6.3\n",
            "Digite o segundo  salto: 6.1\n",
            "Digite o terceiro salto: 6.4\n",
            "Digite o quarto   salto: 5.3\n",
            "Digite o quinto   salto: 5.4\n",
            "-----------------------------------\n",
            "\n",
            "Atleta:  Fausto\n",
            "\n",
            "Primeiro Salto:  6.3  m\n",
            "Segundo Salto:  6.1  m\n",
            "Terceiro Salto:  6.4  m\n",
            "Quarto Salto:  5.3  m\n",
            "Quinto Salto:  5.4  m\n",
            "\n",
            "Resultado final: \n",
            "Atleta:  Fausto\n",
            "Saltos:  6.3  -  6.1  -  6.4  -  5.3  -  5.4\n",
            "Média dos saltos:  5.9  m\n"
          ]
        }
      ]
    },
    {
      "cell_type": "markdown",
      "source": [
        "### 9. Uma grande emissora de televisão quer fazer uma enquete entre os seus telespectadores para saber qual o melhor jogador após cada jogo. Para isto, faz-se necessário o desenvolvimento de um programa, que será utilizado pelas telefonistas, para a computação dos votos. Sua equipe foi contratada para desenvolver este programa.\n",
        "Para computar cada voto, a telefonista digitará um número, entre 1 e 23, correspondente ao número da camisa do jogador. Um número de jogador igual zero, indica que a votação foi encerrada. Se um número inválido for digitado, o programa deve ignorá-lo, mostrando uma breve mensagem de aviso, e voltando a pedir outro número. Após o final da votação, o programa deverá exibir:\n",
        "\n",
        "*  O total de votos computados;\n",
        "*  Os números e respectivos votos de todos os jogadores que receberam votos;\n",
        "*  O percentual de votos de cada um destes jogadores;\n",
        "*  O número do jogador escolhido como o melhor jogador da partida, juntamente com o número de votos e o percentual de votos dados a ele.\n",
        "\n",
        "A saída deverá ser algo semelhante ao exemplo abaixo:\n",
        "\n",
        "```\n",
        "Enquete: Quem foi o melhor jogador?\n",
        "\n",
        "Número do jogador (0=fim): 9\n",
        "Número do jogador (0=fim): 10\n",
        "Número do jogador (0=fim): 9\n",
        "Número do jogador (0=fim): 10\n",
        "Número do jogador (0=fim): 11\n",
        "Número do jogador (0=fim): 10\n",
        "Número do jogador (0=fim): 50\n",
        "Informe um valor entre 1 e 23 ou 0 para sair!\n",
        "Número do jogador (0=fim): 9\n",
        "Número do jogador (0=fim): 9\n",
        "Número do jogador (0=fim): 0\n",
        "\n",
        "Resultado da votação:\n",
        "\n",
        "Foram computados 8 votos.\n",
        "\n",
        "Jogador Votos           %\n",
        "9               4               50,0%\n",
        "10              3               37,5%\n",
        "11              1               12,5%\n",
        "O melhor jogador foi o número 9, com 4 votos, correspondendo a 50% do total de votos.\n",
        "```"
      ],
      "metadata": {
        "id": "XJlSTNIQgOJc"
      }
    },
    {
      "cell_type": "code",
      "source": [
        "# Resolução"
      ],
      "metadata": {
        "id": "jO5zbW2Hj4Y4"
      },
      "execution_count": null,
      "outputs": []
    },
    {
      "cell_type": "markdown",
      "source": [
        "### 10. Faça um Programa que peça as quatro notas de 10 alunos, calcule e armazene em uma lista a média de cada aluno, imprima o número de alunos com média maior ou igual a 7.0."
      ],
      "metadata": {
        "id": "_ftkrZPHgONL"
      }
    },
    {
      "cell_type": "code",
      "source": [
        "# Resolução\n",
        "nota1=0\n",
        "nota2=0\n",
        "nota3=0\n",
        "nota4=0\n",
        "media=0\n",
        "aluno=10\n",
        "alunos=[]\n",
        "nota=[]\n",
        "\n",
        "for i in range(aluno):\n",
        "  print(\"-----------ALUNO: \",i,\"------------------\")\n",
        "  nota1=input(\"digite a primeira nota: \")\n",
        "  nota2=input(\"digite a segunda nota: \")\n",
        "  nota3=input(\"digite a terceira nota: \")\n",
        "  nota4=input(\"digite a quarta nota: \")\n",
        "  if(nota1==\"\"):\n",
        "    nota1=0\n",
        "  else:\n",
        "    nota1=float(nota1)\n",
        "  if(nota2==\"\"):\n",
        "    nota2=0\n",
        "  else:\n",
        "    nota2=float(nota2)\n",
        "  if(nota3==\"\"):\n",
        "    nota3=0\n",
        "  else:\n",
        "    nota3=float(nota3)\n",
        "  if(nota4==\"\"):\n",
        "    nota4=0\n",
        "  else:\n",
        "    nota4=float(nota4)\n",
        "\n",
        "\n",
        "  media=(nota1+nota2+nota3+nota4)/4\n",
        "  alunos.append(i)\n",
        "  nota.append(media)\n",
        "print(\"\")\n",
        "print(\"\")\n",
        "print(\"-----------LISTA DE APROVADOS------------------\")\n",
        "for i in range(aluno):\n",
        "  if(nota[i]>=7.0):\n",
        "    print(\"aprovado - aluno: \",alunos[i],\" - media: \",nota[i])\n",
        "print(\"\")\n",
        "print(\"-----------LISTA DE REPROVADOS------------------\")\n",
        "for i in range(aluno):\n",
        "  if(nota[i]<=6.9):\n",
        "    print(\"reprovados - aluno: \",alunos[i],\" - media: \",nota[i])\n",
        "\n",
        "\n"
      ],
      "metadata": {
        "id": "CvmyUl1PkLLw",
        "colab": {
          "base_uri": "https://localhost:8080/"
        },
        "outputId": "8bc0cea4-1188-40b8-c3e2-e4cdca8a8508"
      },
      "execution_count": 83,
      "outputs": [
        {
          "output_type": "stream",
          "name": "stdout",
          "text": [
            "-----------ALUNO:  0 ------------------\n",
            "digite a primeira nota: \n",
            "digite a segunda nota: 10\n",
            "digite a terceira nota: 5\n",
            "digite a quarta nota: \n",
            "-----------ALUNO:  1 ------------------\n",
            "digite a primeira nota: 10\n",
            "digite a segunda nota: 10\n",
            "digite a terceira nota: 10\n",
            "digite a quarta nota: 10\n",
            "-----------ALUNO:  2 ------------------\n",
            "digite a primeira nota: 5\n",
            "digite a segunda nota: 8\n",
            "digite a terceira nota: \n",
            "digite a quarta nota: \n",
            "-----------ALUNO:  3 ------------------\n",
            "digite a primeira nota: 4\n",
            "digite a segunda nota: 8\n",
            "digite a terceira nota: 8\n",
            "digite a quarta nota: 8\n",
            "-----------ALUNO:  4 ------------------\n",
            "digite a primeira nota: 7\n",
            "digite a segunda nota: 8\n",
            "digite a terceira nota: 9\n",
            "digite a quarta nota: 10\n",
            "-----------ALUNO:  5 ------------------\n",
            "digite a primeira nota: 9\n",
            "digite a segunda nota: 8\n",
            "digite a terceira nota: 10\n",
            "digite a quarta nota: 10\n",
            "-----------ALUNO:  6 ------------------\n",
            "digite a primeira nota: 1\n",
            "digite a segunda nota: 1\n",
            "digite a terceira nota: 1\n",
            "digite a quarta nota: 1\n",
            "-----------ALUNO:  7 ------------------\n",
            "digite a primeira nota: 2\n",
            "digite a segunda nota: 5\n",
            "digite a terceira nota: 6\n",
            "digite a quarta nota: 4\n",
            "-----------ALUNO:  8 ------------------\n",
            "digite a primeira nota: 4\n",
            "digite a segunda nota: 5\n",
            "digite a terceira nota: 6\n",
            "digite a quarta nota: 7\n",
            "-----------ALUNO:  9 ------------------\n",
            "digite a primeira nota: 6\n",
            "digite a segunda nota: 7\n",
            "digite a terceira nota: 8\n",
            "digite a quarta nota: 9\n",
            "\n",
            "\n",
            "-----------LISTA DE APROVADOS------------------\n",
            "aprovado - aluno:  1  - media:  10.0\n",
            "aprovado - aluno:  3  - media:  7.0\n",
            "aprovado - aluno:  4  - media:  8.5\n",
            "aprovado - aluno:  5  - media:  9.25\n",
            "aprovado - aluno:  9  - media:  7.5\n",
            "\n",
            "-----------LISTA DE REPROVADOS------------------\n",
            "reprovados - aluno:  0  - media:  3.75\n",
            "reprovados - aluno:  2  - media:  3.25\n",
            "reprovados - aluno:  6  - media:  1.0\n",
            "reprovados - aluno:  7  - media:  4.25\n",
            "reprovados - aluno:  8  - media:  5.5\n"
          ]
        }
      ]
    }
  ]
}