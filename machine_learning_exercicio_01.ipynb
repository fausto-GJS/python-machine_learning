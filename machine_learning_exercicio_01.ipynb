{
  "nbformat": 4,
  "nbformat_minor": 0,
  "metadata": {
    "colab": {
      "name": "machine_learning-exercicio_01.ipynb",
      "provenance": [],
      "authorship_tag": "ABX9TyOyaB2eQxgkd3ECSB8OALSo",
      "include_colab_link": true
    },
    "kernelspec": {
      "name": "python3",
      "display_name": "Python 3"
    },
    "language_info": {
      "name": "python"
    }
  },
  "cells": [
    {
      "cell_type": "markdown",
      "metadata": {
        "id": "view-in-github",
        "colab_type": "text"
      },
      "source": [
        "<a href=\"https://colab.research.google.com/github/fausto-GJS/python-machine_learning/blob/main/machine_learning_exercicio_01.ipynb\" target=\"_parent\"><img src=\"https://colab.research.google.com/assets/colab-badge.svg\" alt=\"Open In Colab\"/></a>"
      ]
    },
    {
      "cell_type": "markdown",
      "source": [
        "<h1>EXERCICIOS MACHINE LEARNING</h1>\n",
        "\n",
        "<h1>1)</h1>\n"
      ],
      "metadata": {
        "id": "snv_257vpH1i"
      }
    },
    {
      "cell_type": "code",
      "execution_count": null,
      "metadata": {
        "colab": {
          "base_uri": "https://localhost:8080/"
        },
        "id": "ucnF_2KhoodK",
        "outputId": "53453651-5c6d-4cfa-aff5-6dd4d8f311f9"
      },
      "outputs": [
        {
          "output_type": "stream",
          "name": "stdout",
          "text": [
            "se hoje está chovendo então a rua esta molhada\n"
          ]
        }
      ],
      "source": [
        "P = ['hoje está chovendo',True]\n",
        "Q = ['rua esta molhada',True]\n",
        "if P[1]:\n",
        "  print('se '+P[0]+' então a '+Q[0])"
      ]
    },
    {
      "cell_type": "markdown",
      "source": [
        "<h1>2)</h1>\n"
      ],
      "metadata": {
        "id": "7jL17Dv6qihj"
      }
    },
    {
      "cell_type": "code",
      "source": [
        "P = ['o carro anda',True]\n",
        "Q = ['corre em alguma rua',True]\n",
        "if P[1]:\n",
        "  print('se '+P[0]+', então o '+Q[0])"
      ],
      "metadata": {
        "colab": {
          "base_uri": "https://localhost:8080/"
        },
        "id": "YB7y5LL8qj3Z",
        "outputId": "41dcbac6-cbf8-4c34-9533-3706cde10ecd"
      },
      "execution_count": null,
      "outputs": [
        {
          "output_type": "stream",
          "name": "stdout",
          "text": [
            "se o carro anda, então o corre em alguma rua\n"
          ]
        }
      ]
    },
    {
      "cell_type": "markdown",
      "source": [
        "<h1>3)</h1>\n",
        "\n"
      ],
      "metadata": {
        "id": "3RYzhjltrQc_"
      }
    },
    {
      "cell_type": "code",
      "source": [
        "P=True\n",
        "Q=False\n",
        "R=False\n",
        "res = P and Q or (not P and R)\n",
        "print(res)\n"
      ],
      "metadata": {
        "colab": {
          "base_uri": "https://localhost:8080/"
        },
        "id": "E81z-I-irSlW",
        "outputId": "e84efa71-b116-4f97-a7a4-a88b079c93c6"
      },
      "execution_count": null,
      "outputs": [
        {
          "output_type": "stream",
          "name": "stdout",
          "text": [
            "False\n"
          ]
        }
      ]
    },
    {
      "cell_type": "markdown",
      "source": [
        "<h1>4)</h1>"
      ],
      "metadata": {
        "id": "Nah97AkjuunU"
      }
    },
    {
      "cell_type": "code",
      "source": [
        "P=False\n",
        "Q=True\n",
        "R=False\n",
        "res = P or (Q and R) or R\n",
        "print(res)"
      ],
      "metadata": {
        "colab": {
          "base_uri": "https://localhost:8080/"
        },
        "id": "jC1qSGd1uIyj",
        "outputId": "04916fb3-ee0d-4f5e-8384-afa9c0c58f93"
      },
      "execution_count": null,
      "outputs": [
        {
          "output_type": "stream",
          "name": "stdout",
          "text": [
            "False\n"
          ]
        }
      ]
    },
    {
      "cell_type": "markdown",
      "source": [
        "<h1>5)</h1>\n"
      ],
      "metadata": {
        "id": "FFIpS6f-vLZx"
      }
    },
    {
      "cell_type": "code",
      "source": [
        "P=True\n",
        "Q=False\n",
        "R=True\n",
        "if P: \n",
        "  res = Q or(not P and R) \n",
        "print(res)"
      ],
      "metadata": {
        "colab": {
          "base_uri": "https://localhost:8080/"
        },
        "id": "_OAIgnOpvQeX",
        "outputId": "718db600-6934-4013-fff1-9ec42c206a99"
      },
      "execution_count": null,
      "outputs": [
        {
          "output_type": "stream",
          "name": "stdout",
          "text": [
            "False\n"
          ]
        }
      ]
    },
    {
      "cell_type": "markdown",
      "source": [
        "<h1>6)</h1>"
      ],
      "metadata": {
        "id": "teTe4T50xPBx"
      }
    },
    {
      "cell_type": "code",
      "source": [
        "P = ['há sol',True]\n",
        "Q = ['rua está seca',True]\n",
        "if P[1]:\n",
        "  print('Se '+P[0]+', então '+Q[0])"
      ],
      "metadata": {
        "colab": {
          "base_uri": "https://localhost:8080/"
        },
        "id": "qjs8rHgqxTCO",
        "outputId": "05757f07-5ae8-4f27-cdbc-b190aaf40dfe"
      },
      "execution_count": null,
      "outputs": [
        {
          "output_type": "stream",
          "name": "stdout",
          "text": [
            "Se há sol, então rua está seca\n"
          ]
        }
      ]
    },
    {
      "cell_type": "markdown",
      "source": [
        "<h1>7)</h1>"
      ],
      "metadata": {
        "id": "AF2j3fiOxwsj"
      }
    },
    {
      "cell_type": "code",
      "source": [
        "P = ['há um problema',True]\n",
        "Q = ['chame o técnico',True]\n",
        "if P[1]:\n",
        "  print('Se '+P[0]+', então '+Q[0])"
      ],
      "metadata": {
        "colab": {
          "base_uri": "https://localhost:8080/"
        },
        "id": "oQQSBdHKx1CR",
        "outputId": "2debf0e9-1acc-4ca7-b984-e319fab7094a"
      },
      "execution_count": null,
      "outputs": [
        {
          "output_type": "stream",
          "name": "stdout",
          "text": [
            "Se há um problema, então chame o técnico\n"
          ]
        }
      ]
    },
    {
      "cell_type": "markdown",
      "source": [
        "<h1>8)</h1>"
      ],
      "metadata": {
        "id": "gVBCcG1oyBqy"
      }
    },
    {
      "cell_type": "code",
      "source": [
        "P=True\n",
        "Q=False\n",
        "R=False\n",
        "res = (P and R) or R\n",
        "print(res)"
      ],
      "metadata": {
        "colab": {
          "base_uri": "https://localhost:8080/"
        },
        "id": "mgKizWV2yFbg",
        "outputId": "ebd0fe84-373c-482e-e9ef-0a9a453e215c"
      },
      "execution_count": null,
      "outputs": [
        {
          "output_type": "stream",
          "name": "stdout",
          "text": [
            "False\n"
          ]
        }
      ]
    },
    {
      "cell_type": "markdown",
      "source": [
        "<h1>9)</h1>"
      ],
      "metadata": {
        "id": "1z2GZIPBy-GA"
      }
    },
    {
      "cell_type": "code",
      "source": [
        "P=False\n",
        "Q=True\n",
        "R=False\n",
        "res = P or Q and (R) or R\n",
        "print(res)"
      ],
      "metadata": {
        "colab": {
          "base_uri": "https://localhost:8080/"
        },
        "id": "zB0ttlrkzBxr",
        "outputId": "fdfd4e40-fa25-4a5e-b00a-029222a6566f"
      },
      "execution_count": null,
      "outputs": [
        {
          "output_type": "stream",
          "name": "stdout",
          "text": [
            "False\n"
          ]
        }
      ]
    },
    {
      "cell_type": "markdown",
      "source": [
        "<h1>10)</h1>"
      ],
      "metadata": {
        "id": "ebVZsfwPzrnO"
      }
    },
    {
      "cell_type": "code",
      "source": [
        "P=True\n",
        "Q=False\n",
        "R=True\n",
        "if R:\n",
        "  res = Q or (P and Q or not R)\n",
        "  print(res)"
      ],
      "metadata": {
        "colab": {
          "base_uri": "https://localhost:8080/"
        },
        "id": "T3EG6VGvzyem",
        "outputId": "0937325f-37f0-4d08-93ea-6ff92ab4120c"
      },
      "execution_count": null,
      "outputs": [
        {
          "output_type": "stream",
          "name": "stdout",
          "text": [
            "False\n"
          ]
        }
      ]
    },
    {
      "cell_type": "markdown",
      "source": [
        "<h1>11)</h1>"
      ],
      "metadata": {
        "id": "4-LpwjC-071O"
      }
    },
    {
      "cell_type": "code",
      "source": [
        "P=True\n",
        "T=True\n",
        "Q=False\n",
        "R=True\n",
        "if R:\n",
        "  res = Q or not(P or Q) and T\n",
        "  print(res)"
      ],
      "metadata": {
        "colab": {
          "base_uri": "https://localhost:8080/"
        },
        "id": "jY0m9qyC0_d3",
        "outputId": "60330c87-5d8f-41e6-cca2-ffca855a73c1"
      },
      "execution_count": null,
      "outputs": [
        {
          "output_type": "stream",
          "name": "stdout",
          "text": [
            "False\n"
          ]
        }
      ]
    }
  ]
}
