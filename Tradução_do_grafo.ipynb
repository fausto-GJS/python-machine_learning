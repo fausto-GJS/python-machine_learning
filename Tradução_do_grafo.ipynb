{
  "nbformat": 4,
  "nbformat_minor": 0,
  "metadata": {
    "colab": {
      "name": "Tradução do grafo.ipynb",
      "provenance": [],
      "authorship_tag": "ABX9TyOlac1d9TGN8SreqCnxNiCn",
      "include_colab_link": true
    },
    "kernelspec": {
      "name": "python3",
      "display_name": "Python 3"
    },
    "language_info": {
      "name": "python"
    }
  },
  "cells": [
    {
      "cell_type": "markdown",
      "metadata": {
        "id": "view-in-github",
        "colab_type": "text"
      },
      "source": [
        "<a href=\"https://colab.research.google.com/github/fausto-GJS/python-machine_learning/blob/main/Tradu%C3%A7%C3%A3o_do_grafo.ipynb\" target=\"_parent\"><img src=\"https://colab.research.google.com/assets/colab-badge.svg\" alt=\"Open In Colab\"/></a>"
      ]
    },
    {
      "cell_type": "markdown",
      "source": [
        "<h1>Tradução do Grafo</h1>\n",
        "\n"
      ],
      "metadata": {
        "id": "EAXACzLq4Xsg"
      }
    },
    {
      "cell_type": "markdown",
      "source": [
        "<h4>ORIGINAL</h4>"
      ],
      "metadata": {
        "id": "wun6Th3w4gz4"
      }
    },
    {
      "cell_type": "code",
      "execution_count": null,
      "metadata": {
        "id": "kzkYQ9wz4OIh"
      },
      "outputs": [],
      "source": [
        "# Python3 program for min rotation to unlock\n",
        " \n",
        "# function for min rotation\n",
        "def minRotation(input, unlock_code):\n",
        " \n",
        "    rotation = 0;\n",
        " \n",
        "    # iterate till input and unlock\n",
        "    # code become 0\n",
        "    while (input > 0 or unlock_code > 0):\n",
        " \n",
        "        # input and unlock last digit\n",
        "        # as reminder\n",
        "        input_digit = input % 10;\n",
        "        code_digit = unlock_code % 10;\n",
        " \n",
        "        # find min rotation\n",
        "        rotation += min(abs(input_digit - code_digit),\n",
        "                    10 - abs(input_digit - code_digit));\n",
        " \n",
        "        # update code and input\n",
        "        input = int(input / 10);\n",
        "        unlock_code = int(unlock_code / 10);\n",
        " \n",
        "    return rotation;\n",
        " \n",
        "# Driver Code\n",
        "input = 28756;\n",
        "unlock_code = 98234;\n",
        "print(\"Minimum Rotation =\",\n",
        "       minRotation(input, unlock_code));\n",
        "     \n",
        "# This code is contributed by mits"
      ]
    },
    {
      "cell_type": "markdown",
      "source": [
        "<h4>TRADUZIDO</h4>"
      ],
      "metadata": {
        "id": "Nub5blxo4oJv"
      }
    },
    {
      "cell_type": "code",
      "source": [
        "#Programa Python3 para rotação minima de desbloqueio\n",
        "\n",
        "#função de rotação minima\n",
        "\n",
        "def minRotation(input, unlock_code):\n",
        " \n",
        "    rotation = 0;\n",
        "\n",
        " # interação até imputar dados e desbloqueio\n",
        "\n",
        "    # tornar-se codigo 0 \n",
        "   \n",
        "    while (input > 0 or unlock_code > 0):\n",
        " \n",
        "        # imputar dado e desbloqueio do ultimo digito\n",
        "\n",
        "        #como um lembrete\n",
        "\n",
        "\n",
        "        input_digit = input % 10;\n",
        "        code_digit = unlock_code % 10;\n",
        "\n",
        "         # encontrar o minimo de rotação\n",
        "\n",
        "        rotation += min(abs(input_digit - code_digit),\n",
        "                    10 - abs(input_digit - code_digit));\n",
        "\n",
        "        # atualizar codigo e inputar dado\n",
        "\n",
        "        input = int(input / 10);\n",
        "        unlock_code = int(unlock_code / 10);\n",
        " \n",
        "    return rotation;\n",
        " \n",
        "# Rodar codigo\n",
        "\n",
        "input = 28756;\n",
        "unlock_code = 98234;\n",
        "print(\"Rotação minima =\",\n",
        "       minRotation(input, unlock_code));\n",
        "     \n",
        "# Este codigo é uma contribuição de mits"
      ],
      "metadata": {
        "colab": {
          "base_uri": "https://localhost:8080/"
        },
        "id": "cI6m2JQv4uCn",
        "outputId": "9e5d4e62-8a54-4aef-f6c9-a2905939d785"
      },
      "execution_count": 3,
      "outputs": [
        {
          "output_type": "stream",
          "name": "stdout",
          "text": [
            "Rotação minima = 12\n"
          ]
        }
      ]
    }
  ]
}